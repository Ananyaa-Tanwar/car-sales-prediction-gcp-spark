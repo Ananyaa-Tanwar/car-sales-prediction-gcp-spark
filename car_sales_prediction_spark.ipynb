{
  "nbformat": 4,
  "nbformat_minor": 0,
  "metadata": {
    "colab": {
      "provenance": []
    },
    "kernelspec": {
      "name": "python3",
      "display_name": "Python 3"
    },
    "language_info": {
      "name": "python"
    }
  },
  "cells": [
    {
      "cell_type": "markdown",
      "source": [
        "**Step 1: import all necessary packages**"
      ],
      "metadata": {
        "id": "UitE1Td2l2Fx"
      }
    },
    {
      "cell_type": "code",
      "execution_count": null,
      "metadata": {
        "id": "OW2WgPvzMgkf",
        "colab": {
          "base_uri": "https://localhost:8080/"
        },
        "outputId": "5d47ecad-32c5-41ea-b6ca-f1ad9d2f6896"
      },
      "outputs": [
        {
          "output_type": "stream",
          "name": "stdout",
          "text": [
            "Collecting pyspark\n",
            "  Downloading pyspark-3.5.1.tar.gz (317.0 MB)\n",
            "\u001b[2K     \u001b[90m━━━━━━━━━━━━━━━━━━━━━━━━━━━━━━━━━━━━━━━━\u001b[0m \u001b[32m317.0/317.0 MB\u001b[0m \u001b[31m3.4 MB/s\u001b[0m eta \u001b[36m0:00:00\u001b[0m\n",
            "\u001b[?25h  Preparing metadata (setup.py) ... \u001b[?25l\u001b[?25hdone\n",
            "Requirement already satisfied: py4j==0.10.9.7 in /usr/local/lib/python3.10/dist-packages (from pyspark) (0.10.9.7)\n",
            "Building wheels for collected packages: pyspark\n",
            "  Building wheel for pyspark (setup.py) ... \u001b[?25l\u001b[?25hdone\n",
            "  Created wheel for pyspark: filename=pyspark-3.5.1-py2.py3-none-any.whl size=317488491 sha256=8ffd6b0d197134508ce4be7b9d93269a7965490bbf983107a658a24b4ff63846\n",
            "  Stored in directory: /root/.cache/pip/wheels/80/1d/60/2c256ed38dddce2fdd93be545214a63e02fbd8d74fb0b7f3a6\n",
            "Successfully built pyspark\n",
            "Installing collected packages: pyspark\n",
            "Successfully installed pyspark-3.5.1\n"
          ]
        }
      ],
      "source": [
        "!pip install pyspark"
      ]
    },
    {
      "cell_type": "code",
      "source": [
        "from pyspark.sql import SparkSession\n",
        "from pyspark.sql.functions import *\n",
        "from pyspark.ml import Pipeline\n",
        "from pyspark.ml.regression import LinearRegression\n",
        "from pyspark.ml.feature import VectorAssembler\n",
        "from pyspark.ml.evaluation import RegressionEvaluator\n",
        "from pyspark.sql.functions import col, when, mean, max, sum"
      ],
      "metadata": {
        "id": "QJQptm5pd3lz"
      },
      "execution_count": null,
      "outputs": []
    },
    {
      "cell_type": "markdown",
      "source": [
        "**Step 2: Create Spark Session and Download CSV**"
      ],
      "metadata": {
        "id": "erSOo2VMmBQg"
      }
    },
    {
      "cell_type": "code",
      "source": [
        "spark = SparkSession.builder.appName(\"Car_Predictive_Model\").getOrCreate()"
      ],
      "metadata": {
        "id": "t2AJ4pMGd7hK"
      },
      "execution_count": null,
      "outputs": []
    },
    {
      "cell_type": "code",
      "source": [
        "!wget https://raw.githubusercontent.com/lschenk3/badm358final/main/car_data.csv\n",
        "df = spark.read.csv(\"car_data.csv\", header=True, inferSchema=True)"
      ],
      "metadata": {
        "colab": {
          "base_uri": "https://localhost:8080/"
        },
        "id": "iNpU-MnQeWE6",
        "outputId": "a0935a07-f318-41a6-99c2-d89ece646c72"
      },
      "execution_count": null,
      "outputs": [
        {
          "output_type": "stream",
          "name": "stdout",
          "text": [
            "--2024-04-11 01:54:32--  https://raw.githubusercontent.com/lschenk3/badm358final/main/car_data.csv\n",
            "Resolving raw.githubusercontent.com (raw.githubusercontent.com)... 185.199.109.133, 185.199.111.133, 185.199.108.133, ...\n",
            "Connecting to raw.githubusercontent.com (raw.githubusercontent.com)|185.199.109.133|:443... connected.\n",
            "HTTP request sent, awaiting response... 200 OK\n",
            "Length: 1041622 (1017K) [text/plain]\n",
            "Saving to: ‘car_data.csv.5’\n",
            "\n",
            "car_data.csv.5      100%[===================>]   1017K  --.-KB/s    in 0.07s   \n",
            "\n",
            "2024-04-11 01:54:33 (15.1 MB/s) - ‘car_data.csv.5’ saved [1041622/1041622]\n",
            "\n"
          ]
        }
      ]
    },
    {
      "cell_type": "markdown",
      "source": [
        "**Step 3: Explore the Dataset and Clean**\n",
        "\n",
        "We want to get rid of any Null values and outliers. We also want to change the Year column to Age, as that is easier for predictive models later.Since the same types of cars can havde the same features, we dont need to remove duplicates. We also must remove labels from some numerical columns for easy regression later on"
      ],
      "metadata": {
        "id": "afedCjYCmG6c"
      }
    },
    {
      "cell_type": "code",
      "source": [
        "df.columns"
      ],
      "metadata": {
        "colab": {
          "base_uri": "https://localhost:8080/"
        },
        "id": "wIjTV2JWh3he",
        "outputId": "a76c8177-64d6-42fa-9071-dc10e06bc659"
      },
      "execution_count": null,
      "outputs": [
        {
          "output_type": "execute_result",
          "data": {
            "text/plain": [
              "['car_name',\n",
              " 'year',\n",
              " 'selling_price',\n",
              " 'km_driven',\n",
              " 'fuel',\n",
              " 'seller_type',\n",
              " 'transmission',\n",
              " 'owner',\n",
              " 'mileage',\n",
              " 'engine',\n",
              " 'max_power',\n",
              " 'torque',\n",
              " 'seats']"
            ]
          },
          "metadata": {},
          "execution_count": 139
        }
      ]
    },
    {
      "cell_type": "code",
      "source": [
        "df.printSchema()"
      ],
      "metadata": {
        "colab": {
          "base_uri": "https://localhost:8080/"
        },
        "id": "G5sSN8rBjXqM",
        "outputId": "bf5e8b5d-3d05-41ce-a162-7e4e756a4678"
      },
      "execution_count": null,
      "outputs": [
        {
          "output_type": "stream",
          "name": "stdout",
          "text": [
            "root\n",
            " |-- car_name: string (nullable = true)\n",
            " |-- year: integer (nullable = true)\n",
            " |-- selling_price: integer (nullable = true)\n",
            " |-- km_driven: integer (nullable = true)\n",
            " |-- fuel: string (nullable = true)\n",
            " |-- seller_type: string (nullable = true)\n",
            " |-- transmission: string (nullable = true)\n",
            " |-- owner: string (nullable = true)\n",
            " |-- mileage: string (nullable = true)\n",
            " |-- engine: string (nullable = true)\n",
            " |-- max_power: string (nullable = true)\n",
            " |-- torque: string (nullable = true)\n",
            " |-- seats: integer (nullable = true)\n",
            "\n"
          ]
        }
      ]
    },
    {
      "cell_type": "code",
      "source": [
        "df_rows=df.count()\n",
        "print(df_rows)"
      ],
      "metadata": {
        "colab": {
          "base_uri": "https://localhost:8080/"
        },
        "id": "AbTfJKsWlJ-D",
        "outputId": "e97d446b-fd58-46bf-b60e-4b81fa7800db"
      },
      "execution_count": null,
      "outputs": [
        {
          "output_type": "stream",
          "name": "stdout",
          "text": [
            "8128\n"
          ]
        }
      ]
    },
    {
      "cell_type": "code",
      "source": [
        "from pyspark.sql.functions import regexp_extract\n",
        "from pyspark.sql.types import FloatType, IntegerType\n",
        "\n",
        "# Clean the \"mileage\" column by extracting the numeric value and casting it to FloatType\n",
        "df = df.withColumn(\"mileage_clean\", regexp_extract(\"mileage\", r\"(\\d+\\.\\d+)\", 1).cast(FloatType()))\n",
        "\n",
        "# Clean the \"engine\" column by extracting the numeric value and casting it to IntegerType\n",
        "df = df.withColumn(\"engine_clean\", regexp_extract(\"engine\", r\"(\\d+)\", 1).cast(IntegerType()))\n",
        "\n",
        "# Clean the \"max_power\" column by extracting the numeric value and casting it to FloatType\n",
        "df = df.withColumn(\"max_power_clean\", regexp_extract(\"max_power\", r\"(\\d+\\.\\d+)\", 1).cast(FloatType()))\n",
        "\n",
        "# Clean the \"torque\" column by extracting the numeric value and casting it to FloatType\n",
        "df = df.withColumn(\"torque_clean\", regexp_extract(\"torque\", r\"(\\d+\\.\\d+)\", 1).cast(FloatType()))\n",
        "\n",
        "#delete original columns\n",
        "df = df.drop(\"mileage\", \"engine\", \"max_power\", \"torque\")\n",
        "df.show()"
      ],
      "metadata": {
        "colab": {
          "base_uri": "https://localhost:8080/"
        },
        "id": "Jp08aRfaw6Cd",
        "outputId": "58d08275-cc7c-4e72-e00c-2ccdfd073a73"
      },
      "execution_count": null,
      "outputs": [
        {
          "output_type": "stream",
          "name": "stdout",
          "text": [
            "+--------------------+----+-------------+---------+------+-----------+------------+------------+-----+-------------+------------+---------------+------------+\n",
            "|            car_name|year|selling_price|km_driven|  fuel|seller_type|transmission|       owner|seats|mileage_clean|engine_clean|max_power_clean|torque_clean|\n",
            "+--------------------+----+-------------+---------+------+-----------+------------+------------+-----+-------------+------------+---------------+------------+\n",
            "|Maruti Swift Dzir...|2014|       450000|   145500|Diesel| Individual|      Manual| First Owner|    5|         23.4|        1248|           NULL|        NULL|\n",
            "|Skoda Rapid 1.5 T...|2014|       370000|   120000|Diesel| Individual|      Manual|Second Owner|    5|        21.14|        1498|         103.52|        NULL|\n",
            "|Honda City 2017-2...|2006|       158000|   140000|Petrol| Individual|      Manual| Third Owner|    5|         17.7|        1497|           NULL|        12.7|\n",
            "|Hyundai i20 Sport...|2010|       225000|   127000|Diesel| Individual|      Manual| First Owner|    5|         23.0|        1396|           NULL|        22.4|\n",
            "|Maruti Swift VXI ...|2007|       130000|   120000|Petrol| Individual|      Manual| First Owner|    5|         16.1|        1298|           88.2|        11.5|\n",
            "|Hyundai Xcent 1.2...|2017|       440000|    45000|Petrol| Individual|      Manual| First Owner|    5|        20.14|        1197|          81.86|      113.75|\n",
            "|Maruti Wagon R LX...|2007|        96000|   175000|   LPG| Individual|      Manual| First Owner|    5|         17.3|        1061|           57.5|         7.8|\n",
            "|  Maruti 800 DX BSII|2001|        45000|     5000|Petrol| Individual|      Manual|Second Owner|    4|         16.1|         796|           NULL|        NULL|\n",
            "|    Toyota Etios VXD|2011|       350000|    90000|Diesel| Individual|      Manual| First Owner|    5|        23.59|        1364|           67.1|        NULL|\n",
            "|Ford Figo Diesel ...|2013|       200000|   169000|Diesel| Individual|      Manual| First Owner|    5|         20.0|        1399|           68.1|        NULL|\n",
            "|Renault Duster 11...|2014|       500000|    68000|Diesel| Individual|      Manual|Second Owner|    5|        19.01|        1461|         108.45|        NULL|\n",
            "|       Maruti Zen LX|2005|        92000|   100000|Petrol| Individual|      Manual|Second Owner|    5|         17.3|         993|           NULL|        NULL|\n",
            "|Maruti Swift Dzir...|2009|       280000|   140000|Diesel| Individual|      Manual|Second Owner|    5|         19.3|        1248|           73.9|        NULL|\n",
            "|Maruti Swift 1.3 VXi|2007|       200000|    80000|Petrol| Individual|      Manual|Second Owner| NULL|         NULL|        NULL|           NULL|        NULL|\n",
            "|Maruti Wagon R LX...|2009|       180000|    90000|Petrol| Individual|      Manual|Second Owner|    5|         18.9|        1061|           NULL|        NULL|\n",
            "|Mahindra KUV 100 ...|2016|       400000|    40000|Petrol| Individual|      Manual| First Owner|    5|        18.15|        1198|           NULL|        NULL|\n",
            "|Maruti Ertiga SHV...|2016|       778000|    70000|Diesel| Individual|      Manual|Second Owner|    7|        24.52|        1248|           88.5|        NULL|\n",
            "|Hyundai i20 1.4 C...|2012|       500000|    53000|Diesel| Individual|      Manual|Second Owner|    5|         23.0|        1396|           NULL|        22.4|\n",
            "|      Maruti Alto LX|2002|       150000|    80000|Petrol| Individual|      Manual|Second Owner|    5|         19.7|         796|           46.3|        NULL|\n",
            "|Hyundai i20 2015-...|2016|       680000|   100000|Diesel| Individual|      Manual| First Owner|    5|        22.54|        1396|          88.73|       219.7|\n",
            "+--------------------+----+-------------+---------+------+-----------+------------+------------+-----+-------------+------------+---------------+------------+\n",
            "only showing top 20 rows\n",
            "\n"
          ]
        }
      ]
    },
    {
      "cell_type": "code",
      "source": [
        "age_column = 2024 - df[\"year\"]\n",
        "new_df = df.withColumn(\"car_age\", age_column)\n",
        "cleaned_df = new_df.drop(\"year\")\n",
        "cleaned_df.show()"
      ],
      "metadata": {
        "colab": {
          "base_uri": "https://localhost:8080/"
        },
        "id": "kGLU1zJkp51G",
        "outputId": "49f2e251-7341-41bc-d3a4-894a06affa38"
      },
      "execution_count": null,
      "outputs": [
        {
          "output_type": "stream",
          "name": "stdout",
          "text": [
            "+--------------------+-------------+---------+------+-----------+------------+------------+-----+-------------+------------+---------------+------------+-------+\n",
            "|            car_name|selling_price|km_driven|  fuel|seller_type|transmission|       owner|seats|mileage_clean|engine_clean|max_power_clean|torque_clean|car_age|\n",
            "+--------------------+-------------+---------+------+-----------+------------+------------+-----+-------------+------------+---------------+------------+-------+\n",
            "|Maruti Swift Dzir...|       450000|   145500|Diesel| Individual|      Manual| First Owner|    5|         23.4|        1248|           NULL|        NULL|     10|\n",
            "|Skoda Rapid 1.5 T...|       370000|   120000|Diesel| Individual|      Manual|Second Owner|    5|        21.14|        1498|         103.52|        NULL|     10|\n",
            "|Honda City 2017-2...|       158000|   140000|Petrol| Individual|      Manual| Third Owner|    5|         17.7|        1497|           NULL|        12.7|     18|\n",
            "|Hyundai i20 Sport...|       225000|   127000|Diesel| Individual|      Manual| First Owner|    5|         23.0|        1396|           NULL|        22.4|     14|\n",
            "|Maruti Swift VXI ...|       130000|   120000|Petrol| Individual|      Manual| First Owner|    5|         16.1|        1298|           88.2|        11.5|     17|\n",
            "|Hyundai Xcent 1.2...|       440000|    45000|Petrol| Individual|      Manual| First Owner|    5|        20.14|        1197|          81.86|      113.75|      7|\n",
            "|Maruti Wagon R LX...|        96000|   175000|   LPG| Individual|      Manual| First Owner|    5|         17.3|        1061|           57.5|         7.8|     17|\n",
            "|  Maruti 800 DX BSII|        45000|     5000|Petrol| Individual|      Manual|Second Owner|    4|         16.1|         796|           NULL|        NULL|     23|\n",
            "|    Toyota Etios VXD|       350000|    90000|Diesel| Individual|      Manual| First Owner|    5|        23.59|        1364|           67.1|        NULL|     13|\n",
            "|Ford Figo Diesel ...|       200000|   169000|Diesel| Individual|      Manual| First Owner|    5|         20.0|        1399|           68.1|        NULL|     11|\n",
            "|Renault Duster 11...|       500000|    68000|Diesel| Individual|      Manual|Second Owner|    5|        19.01|        1461|         108.45|        NULL|     10|\n",
            "|       Maruti Zen LX|        92000|   100000|Petrol| Individual|      Manual|Second Owner|    5|         17.3|         993|           NULL|        NULL|     19|\n",
            "|Maruti Swift Dzir...|       280000|   140000|Diesel| Individual|      Manual|Second Owner|    5|         19.3|        1248|           73.9|        NULL|     15|\n",
            "|Maruti Swift 1.3 VXi|       200000|    80000|Petrol| Individual|      Manual|Second Owner| NULL|         NULL|        NULL|           NULL|        NULL|     17|\n",
            "|Maruti Wagon R LX...|       180000|    90000|Petrol| Individual|      Manual|Second Owner|    5|         18.9|        1061|           NULL|        NULL|     15|\n",
            "|Mahindra KUV 100 ...|       400000|    40000|Petrol| Individual|      Manual| First Owner|    5|        18.15|        1198|           NULL|        NULL|      8|\n",
            "|Maruti Ertiga SHV...|       778000|    70000|Diesel| Individual|      Manual|Second Owner|    7|        24.52|        1248|           88.5|        NULL|      8|\n",
            "|Hyundai i20 1.4 C...|       500000|    53000|Diesel| Individual|      Manual|Second Owner|    5|         23.0|        1396|           NULL|        22.4|     12|\n",
            "|      Maruti Alto LX|       150000|    80000|Petrol| Individual|      Manual|Second Owner|    5|         19.7|         796|           46.3|        NULL|     22|\n",
            "|Hyundai i20 2015-...|       680000|   100000|Diesel| Individual|      Manual| First Owner|    5|        22.54|        1396|          88.73|       219.7|      8|\n",
            "+--------------------+-------------+---------+------+-----------+------------+------------+-----+-------------+------------+---------------+------------+-------+\n",
            "only showing top 20 rows\n",
            "\n"
          ]
        }
      ]
    },
    {
      "cell_type": "code",
      "source": [
        "\n",
        "col_null_cnt_df =  cleaned_df.select([count(when(col(c).isNull(),c)).alias(c) for c in cleaned_df.columns])\n",
        "col_null_cnt_df.show()\n",
        "print(cleaned_df.count())"
      ],
      "metadata": {
        "colab": {
          "base_uri": "https://localhost:8080/"
        },
        "id": "Jy9noqglzxH_",
        "outputId": "9a20ce6c-420c-4c87-a274-1f4a55801bc4"
      },
      "execution_count": null,
      "outputs": [
        {
          "output_type": "stream",
          "name": "stdout",
          "text": [
            "+--------+-------------+---------+----+-----------+------------+-----+-----+-------------+------------+---------------+------------+-------+\n",
            "|car_name|selling_price|km_driven|fuel|seller_type|transmission|owner|seats|mileage_clean|engine_clean|max_power_clean|torque_clean|car_age|\n",
            "+--------+-------------+---------+----+-----------+------------+-----+-----+-------------+------------+---------------+------------+-------+\n",
            "|       0|            0|        0|   0|          0|           0|    0|  221|          221|         221|           3129|        6570|      0|\n",
            "+--------+-------------+---------+----+-----------+------------+-----+-----+-------------+------------+---------------+------------+-------+\n",
            "\n",
            "8128\n"
          ]
        }
      ]
    },
    {
      "cell_type": "code",
      "source": [
        "#torque and max power has a lot of Null values so we will drop the column\n",
        "cleaned_df = cleaned_df.drop(\"max_power_clean\")\n",
        "cleaned_df = cleaned_df.drop(\"torque_clean\")"
      ],
      "metadata": {
        "id": "XyGaRZvX0307"
      },
      "execution_count": null,
      "outputs": []
    },
    {
      "cell_type": "code",
      "source": [
        "complete_df = cleaned_df.na.drop(how=\"any\")\n",
        "complete_df_rows=complete_df.count()\n",
        "print(complete_df_rows)\n",
        "complete_cnt_df =  complete_df.select([count(when(col(c).isNull(),c)).alias(c) for c in complete_df.columns])\n",
        "complete_cnt_df.show()"
      ],
      "metadata": {
        "colab": {
          "base_uri": "https://localhost:8080/"
        },
        "id": "gElwG9Zn0N5P",
        "outputId": "53efbc6d-db3b-459e-ee36-46d225420ed3"
      },
      "execution_count": null,
      "outputs": [
        {
          "output_type": "stream",
          "name": "stdout",
          "text": [
            "7907\n",
            "+--------+-------------+---------+----+-----------+------------+-----+-----+-------------+------------+-------+\n",
            "|car_name|selling_price|km_driven|fuel|seller_type|transmission|owner|seats|mileage_clean|engine_clean|car_age|\n",
            "+--------+-------------+---------+----+-----------+------------+-----+-----+-------------+------------+-------+\n",
            "|       0|            0|        0|   0|          0|           0|    0|    0|            0|           0|      0|\n",
            "+--------+-------------+---------+----+-----------+------------+-----+-----+-------------+------------+-------+\n",
            "\n"
          ]
        }
      ]
    },
    {
      "cell_type": "code",
      "source": [
        "mean_price = cleaned_df.select(mean(\"selling_price\")).collect()[0][0]\n",
        "std_price= cleaned_df.select(stddev(\"selling_price\")).collect()[0][0]\n",
        "print(mean_price)\n",
        "print(std_price)"
      ],
      "metadata": {
        "colab": {
          "base_uri": "https://localhost:8080/"
        },
        "id": "uv2OYY-1mZIG",
        "outputId": "2f713212-e394-413d-bc25-dc5ada408b1b"
      },
      "execution_count": null,
      "outputs": [
        {
          "output_type": "stream",
          "name": "stdout",
          "text": [
            "638271.8077017716\n",
            "806253.4035082327\n"
          ]
        }
      ]
    },
    {
      "cell_type": "code",
      "source": [
        "upperbound = mean_price + (1.5*std_price)\n",
        "lowerbound = mean_price - (1.5*std_price)\n",
        "print(upperbound)\n",
        "print(lowerbound)"
      ],
      "metadata": {
        "colab": {
          "base_uri": "https://localhost:8080/"
        },
        "id": "xL_NisP4mqku",
        "outputId": "3e6d849f-4421-4807-96c1-9ae0bd18ff2d"
      },
      "execution_count": null,
      "outputs": [
        {
          "output_type": "stream",
          "name": "stdout",
          "text": [
            "1847651.9129641205\n",
            "-571108.2975605773\n"
          ]
        }
      ]
    },
    {
      "cell_type": "code",
      "source": [
        "new_df = cleaned_df.filter((complete_df[\"selling_price\"] <= upperbound) & (complete_df[\"selling_price\"] >= lowerbound))\n",
        "new_df.count()"
      ],
      "metadata": {
        "colab": {
          "base_uri": "https://localhost:8080/"
        },
        "id": "UQkkyCSsmzFT",
        "outputId": "605e8c56-b63b-4751-9aae-d3a5315f8d22"
      },
      "execution_count": null,
      "outputs": [
        {
          "output_type": "execute_result",
          "data": {
            "text/plain": [
              "7692"
            ]
          },
          "metadata": {},
          "execution_count": 150
        }
      ]
    },
    {
      "cell_type": "code",
      "source": [
        "selected = new_df.select(\"car_age\", \"selling_price\", \"km_driven\", \"seats\")\n",
        "stats = selected.describe()\n",
        "stats.show()"
      ],
      "metadata": {
        "colab": {
          "base_uri": "https://localhost:8080/"
        },
        "id": "Lr_mgbHFnG-W",
        "outputId": "b0d9ad43-b065-427f-d05c-1ab0f15022a2"
      },
      "execution_count": null,
      "outputs": [
        {
          "output_type": "stream",
          "name": "stdout",
          "text": [
            "+-------+------------------+------------------+-----------------+------------------+\n",
            "|summary|           car_age|     selling_price|        km_driven|             seats|\n",
            "+-------+------------------+------------------+-----------------+------------------+\n",
            "|  count|              7692|              7692|             7692|              7473|\n",
            "|   mean|10.406136245449819|476099.48725949036|72099.53003120126| 5.426736250501807|\n",
            "| stddev|  4.03912780462313|301606.69051502965|56982.02957785775|0.9709469439850772|\n",
            "|    min|                 4|             29999|                1|                 2|\n",
            "|    max|                41|           1825000|          2360457|                14|\n",
            "+-------+------------------+------------------+-----------------+------------------+\n",
            "\n"
          ]
        }
      ]
    },
    {
      "cell_type": "markdown",
      "source": [
        "**Step 4: Vectorize Dataset**\n",
        "\n",
        "We must import all packages.\n",
        "\n",
        "Then vectorize the dataset"
      ],
      "metadata": {
        "id": "kgyLakvbt6DF"
      }
    },
    {
      "cell_type": "code",
      "source": [
        "from pyspark.sql.functions import col\n",
        "from pyspark.ml.feature import StringIndexer, OneHotEncoder, VectorAssembler\n",
        "from pyspark.ml.regression import LinearRegression\n",
        "from pyspark.ml.evaluation import RegressionEvaluator\n",
        "from pyspark.ml import Pipeline"
      ],
      "metadata": {
        "id": "177vXnC_uIZ9"
      },
      "execution_count": null,
      "outputs": []
    },
    {
      "cell_type": "code",
      "source": [
        "new_df.printSchema()"
      ],
      "metadata": {
        "colab": {
          "base_uri": "https://localhost:8080/"
        },
        "id": "zJELM4x7uK6R",
        "outputId": "dd3ae96a-2cd5-46e9-c7a7-f8b9893e0293"
      },
      "execution_count": null,
      "outputs": [
        {
          "output_type": "stream",
          "name": "stdout",
          "text": [
            "root\n",
            " |-- car_name: string (nullable = true)\n",
            " |-- selling_price: integer (nullable = true)\n",
            " |-- km_driven: integer (nullable = true)\n",
            " |-- fuel: string (nullable = true)\n",
            " |-- seller_type: string (nullable = true)\n",
            " |-- transmission: string (nullable = true)\n",
            " |-- owner: string (nullable = true)\n",
            " |-- seats: integer (nullable = true)\n",
            " |-- mileage_clean: float (nullable = true)\n",
            " |-- engine_clean: integer (nullable = true)\n",
            " |-- car_age: integer (nullable = true)\n",
            "\n"
          ]
        }
      ]
    },
    {
      "cell_type": "code",
      "source": [
        "#Convert string into numerical columns\n",
        "string_cols = [\"car_name\", \"fuel\", \"seller_type\", \"transmission\", \"owner\"]\n",
        "\n",
        "indexers = [StringIndexer(inputCol=col, outputCol=col+\"_index\", handleInvalid=\"keep\") for col in string_cols]\n",
        "\n",
        "encoder = OneHotEncoder(inputCols=[indexer.getOutputCol() for indexer in indexers],\n",
        "                        outputCols=[col+\"_encoded\" for col in string_cols])"
      ],
      "metadata": {
        "id": "bo_Rpt1Uy2P7"
      },
      "execution_count": null,
      "outputs": []
    },
    {
      "cell_type": "code",
      "source": [
        "pipeline = Pipeline(stages=indexers + [encoder])\n",
        "transformed_df = pipeline.fit(new_df).transform(new_df)\n",
        "transformed_df = transformed_df.drop(*string_cols)"
      ],
      "metadata": {
        "id": "6tcC495Kv8ae"
      },
      "execution_count": null,
      "outputs": []
    },
    {
      "cell_type": "code",
      "source": [
        "cnt_df =  transformed_df.select([count(when(col(c).isNull(),c)).alias(c) for c in transformed_df.columns])\n",
        "cnt_df.show()"
      ],
      "metadata": {
        "colab": {
          "base_uri": "https://localhost:8080/"
        },
        "id": "E5UK3PtC3pSO",
        "outputId": "f8ebb589-335f-43d8-a2b4-2ad8ce80f301"
      },
      "execution_count": null,
      "outputs": [
        {
          "output_type": "stream",
          "name": "stdout",
          "text": [
            "+-------------+---------+-----+-------------+------------+-------+--------------+----------+-----------------+------------------+-----------+----------------+------------+-------------------+--------------------+-------------+\n",
            "|selling_price|km_driven|seats|mileage_clean|engine_clean|car_age|car_name_index|fuel_index|seller_type_index|transmission_index|owner_index|car_name_encoded|fuel_encoded|seller_type_encoded|transmission_encoded|owner_encoded|\n",
            "+-------------+---------+-----+-------------+------------+-------+--------------+----------+-----------------+------------------+-----------+----------------+------------+-------------------+--------------------+-------------+\n",
            "|            0|        0|  219|          219|         219|      0|             0|         0|                0|                 0|          0|               0|           0|                  0|                   0|            0|\n",
            "+-------------+---------+-----+-------------+------------+-------+--------------+----------+-----------------+------------------+-----------+----------------+------------+-------------------+--------------------+-------------+\n",
            "\n"
          ]
        }
      ]
    },
    {
      "cell_type": "code",
      "source": [
        "transformed_df = transformed_df.na.drop(how=\"any\")\n",
        "transformed_df_rows=transformed_df.count()\n",
        "print(transformed_df_rows)\n",
        "transformed_cnt_df =  transformed_df.select([count(when(col(c).isNull(),c)).alias(c) for c in transformed_df.columns])\n",
        "transformed_cnt_df.show()"
      ],
      "metadata": {
        "colab": {
          "base_uri": "https://localhost:8080/"
        },
        "id": "OKlSTL7Q3xrV",
        "outputId": "f79bfd49-8126-4942-b569-4fda6f2071da"
      },
      "execution_count": null,
      "outputs": [
        {
          "output_type": "stream",
          "name": "stdout",
          "text": [
            "7473\n",
            "+-------------+---------+-----+-------------+------------+-------+--------------+----------+-----------------+------------------+-----------+----------------+------------+-------------------+--------------------+-------------+\n",
            "|selling_price|km_driven|seats|mileage_clean|engine_clean|car_age|car_name_index|fuel_index|seller_type_index|transmission_index|owner_index|car_name_encoded|fuel_encoded|seller_type_encoded|transmission_encoded|owner_encoded|\n",
            "+-------------+---------+-----+-------------+------------+-------+--------------+----------+-----------------+------------------+-----------+----------------+------------+-------------------+--------------------+-------------+\n",
            "|            0|        0|    0|            0|           0|      0|             0|         0|                0|                 0|          0|               0|           0|                  0|                   0|            0|\n",
            "+-------------+---------+-----+-------------+------------+-------+--------------+----------+-----------------+------------------+-----------+----------------+------------+-------------------+--------------------+-------------+\n",
            "\n"
          ]
        }
      ]
    },
    {
      "cell_type": "code",
      "source": [
        "feature_cols = [col for col in transformed_df.columns if col != \"selling_price\"]\n",
        "assembler = VectorAssembler(inputCols=feature_cols, outputCol=\"features\")\n",
        "transformed_df = assembler.transform(transformed_df)"
      ],
      "metadata": {
        "id": "WarEnZEh2lq-"
      },
      "execution_count": null,
      "outputs": []
    },
    {
      "cell_type": "markdown",
      "source": [
        "**Step 5: Train the Dataset and Create the Model**"
      ],
      "metadata": {
        "id": "1XOUF_621zhh"
      }
    },
    {
      "cell_type": "code",
      "source": [
        "train, test = transformed_df.randomSplit([0.7, 0.3], seed=42)"
      ],
      "metadata": {
        "id": "jRjC30ZT17jd"
      },
      "execution_count": null,
      "outputs": []
    },
    {
      "cell_type": "code",
      "source": [
        "lr = LinearRegression(featuresCol=\"features\", labelCol=\"selling_price\", predictionCol=\"prediction\")\n",
        "lr_model = lr.fit(train)"
      ],
      "metadata": {
        "id": "oJfVJmku2Ftw"
      },
      "execution_count": null,
      "outputs": []
    },
    {
      "cell_type": "code",
      "source": [
        "train_predictions = lr_model.transform(train)\n",
        "test_predictions = lr_model.transform(test)"
      ],
      "metadata": {
        "id": "XijcQRO_4OqG"
      },
      "execution_count": null,
      "outputs": []
    },
    {
      "cell_type": "code",
      "source": [
        "trainingSummary = lr_model.summary\n",
        "print(\"RMSE: %f\" % trainingSummary.rootMeanSquaredError)\n",
        "print(\"R2: %f\" % trainingSummary.r2)\n",
        "print(\"Intercept: %s\" % str(lr_model.intercept))\n",
        "print(\"Coefficients: %s\" % str(lr_model.coefficients))"
      ],
      "metadata": {
        "colab": {
          "base_uri": "https://localhost:8080/"
        },
        "id": "b9wbN4SG4RJ4",
        "outputId": "774c0d20-aeb4-4174-8039-d42d3a3a4e40"
      },
      "execution_count": null,
      "outputs": [
        {
          "output_type": "stream",
          "name": "stdout",
          "text": [
            "RMSE: 64636.840737\n",
            "R2: 0.954237\n",
            "Intercept: 1026352.1586668593\n",
            "Coefficients: [-0.1565561434386861,-96134.23313917291,8171.427611381418,121.39833474609362,-27895.819975949988,23.524368099590006,-46038.65987312768,-13382.819267821602,63190.44029996329,-8133.9026942583605,-79138.40893848873,-177627.54602149548,-69238.38989325642,-155684.24426404748,-121381.95304764222,-33209.939928590466,-185598.6407640247,-147706.1632690297,223568.34341405917,-58212.277126496396,-28571.72607941987,482623.379929772,-220068.2027093626,-61893.0097217847,48755.670476132356,82333.05178581638,-14586.115099802135,-225588.7316528132,-126228.74295547168,-183451.9357583742,190698.16350182347,199217.7340348309,-139630.67325144107,-111795.41158205751,-51370.11746273204,140627.8604044834,-76227.96236296896,-145126.2254392501,-258205.27402812324,-107427.93092963753,-12988.083186678816,374626.35124676913,-192793.7496530959,-1869.671365853111,-73963.11073508182,-14875.967202557498,-86438.21922556996,-57631.1865292869,-185710.6315807392,-94933.81247006172,34422.75121986297,647838.6878085836,369943.5568204901,230866.48103365576,-44624.22563444645,-93696.52197919563,201010.9139403891,-42684.286392494,-132811.38247924965,-337295.7433253932,-83735.92108934378,-121072.77503645887,65884.03400893029,-120025.71801298857,-180812.82606968834,-20318.551110250308,-137694.99027943742,53524.7679090424,30157.689158173704,-107982.14108074679,-166328.50936483397,311458.8057529886,4809.261184764553,-70319.23606197834,-106648.73007180095,-170672.3312727575,-144941.11520070158,-43941.20442692032,-73655.38069240157,319636.8005956364,-24893.44383873455,-190501.68925848775,-21366.25609261701,-160754.42454220177,51650.33440220306,143434.84546900057,-18161.729006292695,168539.24145715538,-273691.56410652556,126485.12069499232,-34590.34957396905,12082.689020075944,347156.6870968569,-49314.88356602277,348752.22268783755,-100717.82980617516,-212022.3653678241,355037.1092530571,584470.6191408663,-122716.8129112748,-203665.14826001483,21619.944830610857,84486.34263154706,0.0,-122034.67223742943,-83091.5114890644,-73216.36111143246,-77299.66510422858,-324469.50720182736,67674.55883340348,-190976.90839289312,143628.61117444804,32994.52934149507,310218.64367173746,-141546.87534098828,102786.06364726667,-169406.4945247951,-72221.05118641078,66484.40801415095,49404.14301211095,30722.397924671146,129705.74202197399,-359110.20528807485,-332930.7300764761,-51642.61601753601,-164097.9226577915,-270932.7177471467,-166261.22608863856,65772.8270291206,253175.65889716535,188659.74154511938,82015.33015715455,154407.60302433374,-57993.386487809374,-280454.2082142943,360108.7139189306,307763.02871004824,-239908.71583639501,-95837.80601478783,-94990.54929931209,186518.25936394194,34411.52007950151,158934.51518017863,52773.59439099585,91906.90938601704,-267784.8472170531,-252601.31437373895,48727.1245590265,-294089.3111565708,-289877.5710237479,-242925.4968063682,-146079.3758347433,-179388.14741086008,-303325.2995533692,-174123.963460569,17918.160624443888,211666.65185014566,321506.22231782996,590712.8076376999,236446.11020032523,18501.035520366302,-42437.503747952906,346447.5066297481,68440.19129623305,-243185.15950061922,-231910.4782081081,-22302.792540565322,-134044.0434996383,637035.2207048237,-172901.4991057946,-50980.04460609241,-15456.37727411367,-122671.17700934668,75831.35230770832,283081.47017204994,164807.02188563347,-158221.75842607836,-17018.084028082994,89709.41045149587,-171725.3725606678,-93267.6473194941,311970.3220464315,-82502.72116274193,27442.55194000878,-74717.78182951197,-60669.38291234301,167851.2820235945,-34850.033579739,-94181.45420744258,847830.1359919927,-288035.173516966,-313536.412788781,-297807.6680046184,-253034.4896727926,272887.05782844895,188238.59646359464,-48543.6845110796,256334.2370989471,-187394.5675814111,-139395.31999265004,-116426.3721434554,-111301.36465602298,-154289.77556359803,-225970.15340597671,-67718.79662922076,-1922.65282609758,51325.48837254054,172485.415013174,138549.83112416248,138106.31697459542,358473.7765772672,-135801.49627613684,-102759.21736935827,-91560.9675869661,-58476.84389465571,95567.24282331075,161703.71427414432,687687.7545867044,-121130.7671648759,-136988.11951562288,-185904.10370717826,-130637.52787230388,-252273.5625729277,-20740.49488702646,6828.958886129096,-191588.00079201726,-229182.83706689317,-313737.43085915956,-71685.17319828161,45736.16258092162,-45913.89846254849,115728.17396205447,195715.97424289433,-158116.95373737765,16541.743696685106,-85416.82330727366,77109.3764124317,-166180.79705865768,31338.82366282475,158756.3611782251,16283.30372695781,-27269.567215472973,76814.98943432498,184926.0244137421,-200268.32411195125,175387.64584883046,240357.69597421982,396669.6705747782,-185662.30755847547,-21858.22950301368,-70263.9294270535,88747.16470882716,-90949.12468592905,-164489.2017762514,0.0,1576.6853115797576,-17486.41135121969,-38263.81918342993,-53783.11328733708,-330516.7181969361,-317748.3760678417,-227858.69580920457,410184.9115749442,952383.422833087,-370142.8691086185,-358719.4225064622,-332358.9368845717,-270495.8006548022,-236583.3781985928,105469.42356039336,47915.48592833605,-20931.471700852584,283499.15291556984,12013.5348336853,-55004.81421964176,-194038.43691654847,-218795.10595295575,0.0,-14629.706875926666,-179883.68239083717,-73012.23279844047,256390.90355623182,358030.9393240356,338831.2292248311,86263.93266291743,93815.89587947707,-73582.26919264463,-43062.118345877534,-58947.80734311768,431257.38848207204,-4736.920604586895,14006.644462324528,-123363.42518720153,-96244.8372157996,-111958.86395949902,-272636.4520800968,-277786.93529298296,125748.20700777703,-46554.17744202154,512603.7818802799,-282391.92946791183,-322295.44994759816,-270136.90166977915,-314741.8909408997,-253957.34670402913,307566.6801538528,11239.470141916108,147621.32853100653,-114158.8925313834,227844.4054174753,-61380.00406297788,2379.9126941487293,-100990.975465588,-174589.4027929744,102714.49422827203,95363.10249003032,246685.4236556172,23900.172807808616,-163294.98207039005,-82283.93671828523,73183.04214018275,-46646.69630437918,-89788.58116871747,-66596.7095151313,-131033.80430452994,-151047.73414133568,364267.2394618682,52112.8201763155,31344.270254467017,25778.16565796168,-24610.85818653221,-13271.607289081803,0.0,-89536.12433385088,32322.12158162558,0.0,-50079.01204284577,-410.38516878846207,371901.61614680506,500741.567693512,-5098.424327906107,-223337.67839260676,-159163.61395877184,94854.94139466448,-255959.0461357089,-61410.947941689694,98282.5979797751,50906.29426433347,99531.69492504337,858592.9053051193,1548.651212015602,-20393.792146735388,912602.635470165,598229.2417019043,185263.9424376833,37833.83904256502,294410.456833583,-284800.25766312925,-193135.25301348855,-177972.2709424285,2967.501332338963,236742.95303807943,400567.76670573524,0.0,201887.56192407783,-98914.08045843463,-63642.814836227786,-175347.7618033629,3981.462272909789,-197550.66133677517,25792.079222242017,-123579.09096169949,-105910.88048949881,10743.79467653825,-45812.79978848825,-47655.889225872284,-58061.398093790864,-118544.69404264599,-41229.53611787672,-106451.88671965676,-101845.85035148845,65642.41933874052,-244039.13061708445,317028.24558179296,-167419.06229703643,0.0,-92219.24068562243,0.0,-229435.97185765003,-16862.079444264655,-140581.7518520773,-253432.9312993712,-240363.377910195,-26211.983350566185,656015.0838712045,756610.6247940812,-30087.26977611671,-220958.98835481753,-227186.16296126947,241477.353090683,-85431.13282433846,-357965.6422729287,56881.9024416552,-43873.75353981175,62532.06526720835,-205241.73675825802,-145238.5736310658,353703.52001893206,362459.907061919,-236394.4819351204,-200761.6304434603,107373.00665003726,214655.9814982388,-170201.93781415428,455224.325639112,860470.6273421214,-67176.25556197765,383055.31171653455,545417.8327704147,31974.440537952585,-129154.37833686474,-28558.405022959676,644926.5280235881,-154549.74462513873,99633.22226585528,81283.12401145288,-61994.325673682564,-172542.9384170976,13452.565860120874,-130586.10468394677,-221910.64667220894,-25724.739646640228,106678.9849816669,16911.11971781237,184255.79556812654,-47942.94073197862,-197223.8330328857,353137.9140285006,-116274.01787397407,-242662.97985752186,-83053.52122074326,-194491.9742478158,-143221.59002421173,-32955.230737233054,10780.931044671586,-29014.81860963815,-82397.09183912189,145394.8250281048,-157973.01750829793,-112233.76164164081,-15553.011447193736,-137638.7954190633,-231575.16664008205,-85522.90315308496,878091.0638679693,107502.01977677936,9263.523256143244,266641.19230483135,395523.8822547467,210862.61534945323,92198.78011927845,264451.5869007459,213637.41708131295,33008.30407867667,-299789.99611160986,499438.91782099294,490633.52848543896,197697.80997073386,-44702.41693438126,-66503.52946289485,-152933.82846034114,-113572.64317664603,-58686.0777057062,-226303.39765702272,-205409.75551052403,207519.43671803412,92240.82879288029,-34376.84176353951,68156.95565586022,-240371.810508261,217377.91398651648,-74288.8416581476,301313.99899295194,-153172.99904745433,-23972.1283311127,-135327.65185961447,-162900.3818066306,-27693.46547469911,-176658.06872703184,0.0,-203854.58734884698,-166921.18674336027,34889.036088706845,124542.6279091646,-71465.8359313331,-77987.59056944509,-88988.15837825781,872942.1976408289,-270454.6648266053,-55125.75950001552,-57524.31252326578,-75497.22718571006,364572.7977853779,-377477.51330093865,-192053.6697732441,188067.9067074452,-214835.0087480454,526836.6653552104,-306682.56228493585,-333109.69001008465,-471580.0923172034,-310020.83241278015,-285480.47176181484,-354190.73601969983,-346785.7845399509,-66001.02487545706,88430.34778647599,-201904.6282767017,-191033.92047822627,31681.03455210315,-154115.3803893332,-104486.33473451066,33198.90782963869,-46901.32967085095,-204926.7499633541,0.0,-176668.40868927506,941454.0122433887,237262.46056029046,387514.12568891747,98852.19865501595,224129.37922044564,284554.3822082442,273968.5602443528,983348.7580792265,1114248.3180836025,546165.6500292544,3172.8170748914067,-117155.30327207918,331465.83297954395,-75788.62289650636,23925.666385689656,-125481.6837341658,645492.9963415385,443929.50130571675,7195.715196309439,-217180.97477305925,-352024.04296077805,-374313.0067010891,-148410.28803261675,302771.78678286937,101648.63301137656,-219286.19954513924,-235200.4806660527,-121347.53213547327,-201344.62051662646,-21505.098910596225,0.0,444134.02663549816,-300273.40858785145,-72581.63247996107,51973.68925739461,-17462.28635597357,119546.14284234561,-112052.73737325557,-106893.77945239941,323880.92786955915,-29942.222026025902,0.0,-179902.64130010593,-207876.76193409058,-106236.81744040153,-311642.15100528905,-218140.87830556388,148429.93737758393,0.0,-300495.389360314,-226264.11985558018,-277855.39283355506,-175015.65118731264,95232.27588715353,45624.47766841072,426139.90516984626,-50963.69686028112,-44039.664162700596,10168.035967572901,0.0,21079.36669216838,-35646.059937385064,132869.6015537322,136058.43170785613,47554.389223158876,70700.17692230143,235239.75941594163,271266.5665219365,-137532.28348669191,-73347.18327764313,76633.15983329757,33929.93340667502,505985.5935779152,153382.95696588728,80313.30995962693,191753.04436380297,-63328.43058842159,250189.61862274358,358639.8410206826,179003.02085110891,298627.53289307957,529903.021042265,413411.64204001334,117618.87939864138,75548.9557770027,151066.91300892128,118190.35218702484,-133769.55395249193,-125426.79912909263,-22364.230672257956,0.0,-124156.29751854422,-91581.8314750708,-4773.273538284178,0.0,0.0,121294.1906103337,-112274.4108830482,-173514.6885292451,27179.870587252863,228596.91707085338,263780.3145321892,0.0,-109481.46065737375,-168574.10948896105,-146843.71110094924,-138055.1047711744,-63597.23644359085,-89306.03484904353,-5480.883294060652,109237.57308832764,-152260.68637387894,195843.68405164045,832464.9584926238,-43766.75481314347,183130.94391117233,37661.32896977182,247986.66618955642,-46475.409117278694,14642.58133847306,0.0,52204.38738472715,-73067.49911712947,-35423.214460144656,469147.65533542004,-97340.65282382516,-233186.8578644746,144015.26978975395,328856.42243356514,358770.3976356891,361611.39452777687,188591.44732200122,294675.79771693354,157939.63280508385,324182.0015553938,44219.74935516768,76212.47279254804,180712.4189941269,-388115.5673260947,432986.7525088647,623098.1179421147,739005.1755149873,981246.3563978435,756445.8525927563,925501.1739454812,37934.35095942176,-72381.92233989807,41364.46257268678,-69524.23613038061,-251879.80081589895,-190850.94404293576,-109505.45272975464,-97315.45634901068,60449.94636443889,193439.4235109119,-134412.6691949872,-141030.04051517174,-91540.08573606767,-237278.66784065537,98864.49709519553,-73237.00696032464,-42610.48301173094,-86051.4549341437,121474.26618685349,468096.78741715505,0.0,-139988.87437018057,36352.9766716983,-248800.1898207051,-71716.55028099992,-164825.86213415334,-254810.95506840217,-44453.20740905126,0.0,-65539.08893937852,53455.599197984695,90928.9398079931,-227655.4915836941,-84874.11028380919,8919.910585151936,73789.26810994475,-233.13659640656104,-160371.98529938408,15712.681298351137,73668.07280019714,-28829.562783026926,-51725.938906629075,497753.6101610424,-188605.38953441096,-92339.22806586765,-72411.21439678289,643119.7388443336,-97779.82458096315,-161357.8754722697,122409.63272107102,-184700.94297319173,-93340.2418180359,-226953.39032351968,-203789.153333861,-327911.18057764065,227591.42000390918,-155843.76009882693,-241870.8907619405,-159888.09217389222,-90301.92228756932,-118205.77144275478,-234928.84694650103,61420.25900585871,669961.1811220046,-344120.708122303,-305626.02392987366,-459351.24045962805,-318037.5805916701,-282921.6184010704,-166593.52549914375,-337900.98109529715,-225669.72802287285,-97528.85365403673,-115980.95292359288,-263301.7964843419,-541591.5124722894,-50889.527442199884,-67426.98600881414,14101.103841784201,42329.21028239581,228512.23720555572,0.0,96763.92598316632,-252810.29393131743,-134711.7010509305,-172696.32794942384,34010.443210045705,0.0,839477.9745243854,1170084.031575563,202704.59952116414,594833.3474486367,424834.9031509726,894901.8305731006,1106593.224208564,898161.0860011871,1196828.121307527,390668.8522844149,311611.3099290872,-259372.1195992243,-112793.96818840643,20499.585476580094,-137078.04810230862,5732.198225977473,10062.683487207221,-108903.67905578231,19910.644512983883,83016.88377915208,-252354.00389136246,7504.6465526752045,722364.105070016,429502.2929497765,507515.57355939224,319154.54360878066,-105905.77519405098,164705.24250913752,234594.10191773163,-36590.91854438264,-256929.8163791801,-273247.66002239374,-133560.08969068466,-240400.95861842023,-354138.39032858773,-139474.98063215887,265122.78327967855,194963.3801543205,194442.32484618222,109478.32143085102,-223598.2742506876,-356106.05864882085,67357.63793491067,-59886.71503929588,40565.57344805618,-160587.98816542656,-259812.70148299474,-130173.49908562697,-314394.5038220686,-182280.7628456656,-163674.71086455593,-259635.40861071995,-131248.20861685806,0.0,-106345.65057655335,52074.53479472178,-37440.72046204731,-4389.118629702803,77419.44897258373,329653.5023682625,312545.95983283635,119047.23976299123,155113.58909716224,130961.3954938165,14898.547371347666,0.0,0.0,0.0,-100841.3279126382,-210871.09111589042,-210894.59387909507,-242144.98859673564,-113580.53015554674,63820.85061294342,-226727.19560748962,-76097.5005441566,-31292.396053423632,-29044.384046289717,0.0,-248159.9474268368,2403.948564138137,-230683.69533572783,-60347.79609575935,0.0,-232281.15893165758,-207723.4705702305,-193731.07406726398,-288284.73860098637,52390.363683716954,-145166.4397191231,-77687.76109349937,-271951.81580400345,356869.100309027,175004.93701552498,-87944.184032085,38344.58777145641,106390.80151115381,41803.15352969901,-49226.614077184255,-119363.89583679682,299258.1218639418,57320.73559613512,0.0,400952.4175357158,228892.28685693283,226424.4347174914,370472.6237467727,23369.47100705654,105101.5055062921,137095.72577906435,-128222.73388002002,-139623.1454626706,160327.7035282163,202182.08907604188,-27352.325904212594,-33250.71282302491,-59536.373804180555,245501.4944830633,566552.5082991173,828507.8808936991,0.0,285154.72967404407,-210312.50815240748,-160710.55519777807,0.0,253967.99147415374,-853.2021845962247,25750.566521285622,93666.69662009442,-63294.81328525174,26537.47357889754,-273039.5736155447,-62757.45530912202,-68847.26624146722,-236462.30923127173,-154942.89890307924,104056.75638921362,0.0,0.0,0.0,0.0,0.0,0.0,0.0,-34335.24117354356,0.0,374851.0665313484,0.0,-93408.61602919057,-172436.15462881426,60669.24972065291,186254.13868409995,211437.21554416956,40945.25641114682,-178430.8620841129,1525.9374990826327,-92742.66717719079,45522.22808288972,19120.303466604957,-238335.82858321336,242161.28954779633,0.0,-95360.07006468654,-65797.68544289381,-78347.11494108406,52333.13363873968,0.0,-49159.02671716228,-89816.12412854501,34041.223644769736,-141863.99178237116,-38880.971219083025,229362.9030632092,105951.6396816475,-31628.729664100414,84682.96902169533,40123.11664196812,9106.546467589933,674633.3976237952,1061019.5692218773,0.0,0.0,97691.53482469321,200595.29869126683,232492.9015474047,-2825.3846010079023,0.0,-49630.45942325469,0.0,0.0,0.0,0.0,9240.772895069938,-67701.9884787773,0.0,0.0,195077.35772020015,74717.09422666552,0.0,-123988.42880370194,0.0,-70958.96912847384,0.0,-85242.09907665067,522527.9750514761,839935.6974481218,163754.94508510196,-37245.27300794931,-38486.93507636539,-43513.99064006247,68784.82985863152,160659.1713201244,190506.77778116582,325074.898955977,106898.76296121863,-16130.317041013095,884328.721972542,313654.9464740456,274680.1912707369,704721.7150897447,266254.87888512894,292603.58608961635,691717.9985011106,62339.75608859691,0.0,112748.45191711605,113058.74005057735,175862.2488410277,298019.3281191301,149341.2130105374,201757.96927720527,51726.269184056546,170301.78915051013,-287502.6236267714,453638.92043100565,554470.0753531401,-33850.64089214708,-60435.72304923835,201972.77054859002,-81960.12736566499,292799.0057619581,-99447.28483104409,-103708.55947809771,-125780.1082587729,-80677.84078190509,-314156.55018313497,-197065.5360192302,-176971.4285306302,-227895.39282635372,-196918.56913924156,-78365.58233878715,-141037.16204270744,-411493.9111207469,-360908.8864458123,-151523.33479238028,-301574.6307434732,-346086.69178181805,-252467.99016127156,-324069.6321058234,-61974.25235615489,105945.90697305035,71248.28954285098,52448.69807364668,0.0,125214.2700914345,102943.82722577147,-69941.62166841954,481634.13708560687,273595.8042922794,0.0,0.0,359150.3688353756,0.0,-265193.1549882374,-306526.10858030885,-220536.53351645588,-103367.57979811999,29569.091391990285,167500.98451312855,-267115.8007146168,-62738.68637952088,-138529.86050870392,-200636.58981983396,132846.95897912688,-300287.1659707364,-45694.518197288744,-98378.73221708546,-118393.94929844292,-277536.5393762587,-150468.97799996776,-143734.89308212933,-14481.131392015386,-189227.01817968028,-45469.32406319566,0.0,-74532.89016458728,215527.91708833602,-10838.360393182065,-81948.40976512099,-49857.353629563375,-193990.10785885714,-265447.7263089459,-158701.76062425328,-188092.27552523414,-34342.864116591976,-93897.4211995137,24713.461785291467,-6542.762295482077,0.0,159524.88463129147,-75871.80647861752,-110376.63262233956,-196573.96947407254,-88044.9038574096,-102293.5615486747,-51229.66682144268,-112696.4137392306,-20845.31805747941,0.0,-57855.76137797157,121994.03747057576,616969.4232821674,996180.8862246434,-132912.35613100993,-34467.75007231666,764986.053948585,268113.8980170726,-317533.25836690207,-48340.999639059,-94095.80660225001,-152754.30475751846,-46573.820730881154,-52515.59549702613,-47146.62503779162,-87695.65099639512,7619.566416915229,5856.412511198681,-108893.74488825796,-297840.4183233148,-284708.8289122344,-293297.52232806815,193925.83802984268,235727.42622908324,458998.294705621,-329159.8069876646,-298654.422117673,0.0,-317415.1879699207,440930.3741931543,-158534.2221419837,-97530.55714224507,0.0,63726.14411282771,-165913.1401474278,-397181.2917754503,-327180.9295411009,-234206.29516009495,-173189.61126018356,-222603.57002389943,-380379.5086859179,0.0,-258496.34502942144,-156419.9916202431,-256805.2496053691,-260814.5646525048,-327468.40358380805,-132899.80161246465,-363482.9018491109,-27955.091845538518,-11353.439531731681,-358871.7559320439,-115372.72338093104,-249465.3892099724,-253213.15461855684,-333487.03597888805,-258009.91450239692,-417657.75655976386,-392159.7847397158,-396175.1042051809,-469646.5312701652,258990.8212841773,145476.69497550523,-190742.7652663928,88747.29147654919,-3092.866872590919,228508.58077088906,-104343.24090308712,-166600.12229717436,-193355.06162820137,-340026.48075205914,-280202.5200134942,-196533.4944505696,-79863.89885701069,-279955.2626523476,-180660.4204654052,-82547.85755456152,-271847.69223915954,-100195.20962744701,-260148.3259831599,797232.2170786053,-23422.244268985418,0.0,176961.42921988713,593461.5432561586,-84880.87890332857,50768.66618537023,-222286.25490965648,-278123.8256160561,-88650.62432453014,0.0,29130.97076974087,-198098.9067304968,0.0,-190959.92772831084,103884.10171235836,191156.536950663,141426.84839087716,189227.83899475035,624017.9445070429,406432.1919394558,442114.7926589161,1167677.2974390166,871062.7634673832,1059197.1439175536,0.0,0.0,0.0,-299141.24919659854,-79466.87480158506,96140.7448408009,342408.63048051135,29477.690057998665,142112.59092149924,85458.54341269836,5771.815564181877,-71548.59572361945,60000.191780135116,-314010.4628420938,-227931.09122108447,40407.486756109865,0.0,223132.2626355971,0.0,845835.6606070207,841400.1494557059,0.0,381761.9344130536,571960.0164978384,0.0,749917.7631088032,437481.24249270925,0.0,238410.5074546857,389107.41034484684,254826.19261473304,17005.163239883437,0.0,0.0,108241.02702441112,0.0,-65682.28357698908,209262.45613755312,0.0,-299313.2639106418,0.0,165615.73196366895,134619.97933777043,0.0,0.0,-245340.3044769489,-232244.93934494685,-113699.31999700131,-139278.2940200792,-137847.5597076396,-299682.21454232535,-182224.054587125,-135942.20938180998,52133.11806918532,0.0,0.0,204025.54817070844,0.0,235469.81302303824,0.0,0.0,-119655.98920124202,0.0,544550.1657518009,82860.3622060351,0.0,0.0,0.0,-161561.96676536204,0.0,166493.15101079686,-22719.460913884344,-808.8087601275424,36454.468790451734,183088.1227774263,-170448.82060935444,0.0,-485818.999296204,-273279.25796494057,-277360.37909189524,-177043.00850609626,-298119.9307636773,-222760.97210035357,-51734.81466648738,0.0,0.0,0.0,-262530.4045005732,0.0,-273382.0166707149,0.0,220924.04440154138,-263551.749189116,-268888.1677872958,0.0,0.0,-28319.109442108234,0.0,-69903.10754954144,168265.08735761416,147003.31669426613,0.0,98372.87585365496,0.0,0.0,-81331.0676764483,0.0,76555.02241326064,62851.705070184275,95897.22566196398,-175200.77369311583,0.0,402213.37398736936,-99437.76987449724,-54732.61454453133,-106060.99922815384,0.0,-235503.31232594728,-153141.23619780797,0.0,-251828.01279438072,-169335.13541476938,0.0,0.0,0.0,0.0,19532.595172418176,-305443.5872815255,95922.93458654486,0.0,-164345.65721225468,0.0,-246940.386145283,41853.80531876627,-15532.276436866312,-139004.4636303235,0.0,-179037.5293920986,0.0,-81066.56022615562,102761.86229141832,-310763.2955065373,0.0,-108.94401536413541,0.0,-89997.01959645873,105746.27126355874,-142342.80305693945,-109162.34444624122,87313.89847787954,-309032.5532155182,35468.77883069257,39849.60232449034,26170.451068004182,0.0,0.0,0.0,132610.9290453226,-91375.06972885657,0.0,-198666.34605306163,-208480.57855487787,-46360.06374864418,0.0,-103203.6568101473,2023.200927608192,-111827.30124506149,-237621.77909978715,-78422.19450607171,72733.93758357008,-16846.122784707866,0.0,393412.4260821353,0.0,482988.0462437167,419993.49762294017,0.0,0.0,250957.32333425616,53847.80262589222,0.0,0.0,27353.746849765997,44085.00599144512,-9617.59978844138,290406.32467455644,178027.59635253414,493826.8564851624,-216688.43014291534,0.0,25717.91778373802,-72454.9056097338,27384.69381678426,175760.8751974046,373752.4505291733,0.0,14906.818934012561,0.0,-264742.4437964114,-60036.405903497274,-203124.16686577516,0.0,-109314.09350878489,-327050.45627527,-15961.815092878784,0.0,40417.4283763317,-266727.1175839124,-206847.5339928461,0.0,0.0,-89857.09497671695,-22960.02765739876,-10613.794460657851,16212.705351590077,0.0,0.0,0.0,53992.59911698046,228934.28881026304,0.0,-248353.44913747528,-127722.32119600185,-64575.178151308675,-122369.55267353877,-220223.19897393286,-111953.32569955161,-289270.3358364074,-37247.879508956066,38535.85903711977,0.0,-176123.32604278653,-2708.947154989792,0.0,-98428.17163250661,-37959.2745636067,-108550.3327155428,0.0,0.0,-270903.841858846,-206009.68321191048,-153164.6229649935,0.0,431080.04372785985,614516.9556621062,0.0,462291.7244399072,661901.4630921553,0.0,0.0,0.0,0.0,0.0,0.0,0.0,-96584.19405285995,0.0,-14724.322064307571,0.0,0.0,0.0,-69731.85972508905,0.0,0.0,0.0,0.0,0.0,0.0,20284.263114594076,0.0,508799.57718628534,-79351.11085857126,-27825.562600098743,-160141.68206420186,154225.7475840119,138247.92506525584,173790.88593556243,0.0,-271033.35194848746,0.0,22626.68107501769,78472.4166222971,-114298.84480572431,0.0,-19030.16165993254,-135622.51822188924,62900.82912516683,0.0,-53158.25611368713,9318.961410133588,0.0,-259634.40210320306,-99905.88752895943,12684.175426171822,0.0,142517.84938885286,5347.859249384931,0.0,79697.61422246257,0.0,0.0,0.0,0.0,-47395.22099859645,0.0,44165.24270283692,-141813.09748573758,-176034.12983361783,0.0,-227645.95073054463,-305193.1208705499,0.0,352124.16796351795,925696.1687397414,-150827.51165491669,617722.3253904484,0.0,967472.3307641959,0.0,-89491.39474762793,-13874.173590607927,-25920.731462697342,0.0,78780.6827201795,29190.384028640772,87303.8258610959,0.0,43996.920679097384,1703.2051945960109,0.0,-304481.8535519003,-387286.50365406903,50729.32966915254,26196.828865432944,-20880.529808417617,0.0,0.0,0.0,-248117.5807059459,0.0,0.0,51082.65079659051,-16056.684385172292,-117285.82515794015,100302.24262437802,-176279.12367501287,-237386.7398086562,-76825.09798703392,-112583.1588449109,1686.7152037633186,0.0,-303926.35705986136,-278110.549674976,0.0,659819.2146165322,0.0,50989.35019184562,0.0,0.0,0.0,164203.00220148888,0.0,51191.32664235827,0.0,0.0,122352.40381630699,352297.67824351334,253514.49271747618,83377.10540728623,-194719.67041046958,0.0,694797.09180541,0.0,461909.3291915382,828376.6862491597,357950.02746782,162047.59310294213,176003.9739852432,0.0,300463.3349940231,271368.76260175183,0.0,159672.3729119939,243213.2846195914,392880.1647915655,256199.66531925826,205732.57434528376,-37306.26345788848,75833.9231973224,0.0,-386278.5105370772,-245871.81769979536,-79473.7247181026,56151.12666653383,0.0,161370.3807834105,378030.1138516096,434606.2410849057,0.0,329166.4894297483,0.0,0.0,853849.2729348768,912407.8619228061,0.0,0.0,0.0,-149231.94278699672,283498.4929904309,-37933.76354963837,0.0,0.0,342347.7067836003,0.0,45359.11017431122,0.0,-790.8211718924467,-46239.10312140174,-70899.58909941954,0.0,-135304.11162140634,0.0,-287445.3063617847,-246773.21199868163,-233828.2131049864,-232216.2352267568,-203617.348812295,0.0,-217882.94509189672,0.0,-38880.51422360748,-102146.77279561982,0.0,0.0,58839.86438433732,-16973.260400461077,-190871.35097600255,0.0,0.0,-144977.95086241994,-327355.4934091068,0.0,0.0,-2418.313696948311,-46521.01745595239,0.0,0.0,0.0,28125.295669177278,0.0,127512.23451770513,0.0,150473.67768004138,-113126.7147057918,0.0,37586.12936070563,-12040.779728149719,0.0,51759.57557425085,252286.17881210832,0.0,241626.93191852974,33053.42433145984,255072.49408361025,0.0,0.0,0.0,283139.833775484,486052.59657496517,24484.269176176087,-243378.25123664885,0.0,0.0,-51758.598130034195,682059.3538628625,59990.393293764275,0.0,0.0,163403.75995805903,0.0,533860.4113247759,0.0,0.0,0.0,2459.0376300764597,-47185.16931307202,-181818.54983536937,0.0,-30146.11642308042,-87817.48277534486,-207692.41698897033,0.0,0.0,-24806.29301166395,-229237.86602976895,-49585.18159194596,-78436.36976104598,-127769.49287203398,20630.080258946946,133310.35636160476,-141950.96179894707,0.0,-295412.65818003245,0.0,0.0,15219.198064874907,43387.10634736458,0.0,0.0,38241.09139575052,0.0,-113030.39542235328,-247691.99993459953,-321184.4614772013,-242531.42090339639,-64375.41792822349,-309389.1687700232,-132824.6506646006,0.0,-24275.205712008366,-50987.08345689509,-55382.76627394712,-334771.3959752542,-265387.48603941407,-128851.94993815316,0.0,0.0,132873.31143438935,-163429.6438772677,-52743.232799650454,127783.88237175337,95049.11861354463,61567.247737728285,0.0,611781.2895515175,0.0,819134.0643208482,0.0,326143.74591428204,0.0,557065.2546346474,0.0,401217.5741654244,596958.8319267775,209506.45943432508,-330173.63430337363,115157.46229860946,464520.2413970061,0.0,-76469.04780402694,-184814.83598111285,-379226.3452426735,-235146.9964704069,-237417.56065835946,-246802.10973701233,0.0,0.0,-16469.21248554688,-259691.2553923939,14988.763196910853,-103985.74459522046,211070.91872271788,107718.68943784531,0.0,-174525.46428068957,-63275.10595652863,0.0,-51997.26602384913,-79113.76015311564,-42184.5090589845,-131893.52264387585,0.0,93707.88370996421,-221276.41765241034,-143993.7955411508,-42439.50133707031,133853.3426595419,98360.9856413529,0.0,-5166.657274159712,-23130.647374753677,-368370.80069944705,0.0,-300184.3688375832,-266333.95617012033,238032.410581389,0.0,186625.24191661202,100731.1131029024,352219.8515393033,0.0,0.0,-183451.07874488065,389304.0349997178,-110103.89460884988,0.0,-298390.8089460858,0.0,-269255.54093533,0.0,0.0,-238360.63449387127,-306537.9098477367,-209371.5970956054,851873.1150894549,-105153.14809973232,-266704.58833522414,0.0,-416277.0467772057,-57255.364654181154,-157819.35510394102,0.0,-346764.34870529315,11318.900123145837,0.0,0.0,0.0,0.0,-64279.93380539406,102960.7525480633,-9323.119856112275,-23913.608988506512,-283599.73907829175,-174975.10274088127,-214629.7720650776,-37624.89188306659,0.0,-148853.44408139613,-238662.6957847709,20377.674363002912,75680.20321790168,23482.48528725119,-126992.813713854,-149175.76203514874,0.0,817313.9952330365,0.0,805624.6504747387,789498.976372263,0.0,-190190.91939197257,-349339.82919372566,-216718.86818947288,-380767.7530374726,-420677.72395754704,-344062.08418258524,-346419.5864927437,-261349.52127561625,0.0,0.0,-188218.720658183,0.0,-250575.27078966607,982.1694968821922,0.0,-334209.70195463125,0.0,0.0,0.0,-190342.4969419362,-3196.200685524034,-296892.281490408,0.0,0.0,0.0,-83211.45794487512,-230734.13896193446,-328604.82992071554,-412784.79971572396,-183343.56512821917,-337053.73083836643,-379922.5317094934,-437718.12739692355,-135166.10216860427,0.0,-188215.18073652594,-178330.3836031805,0.0,-335802.4416927947,-435806.1712375788,0.0,-392306.47001993033,0.0,-463028.3268522924,216345.7088044031,0.0,0.0,-53108.297809392876,152781.595908116,-105651.30197919432,43855.70728476743,0.0,-114589.10565565001,-61783.661695353694,82716.57442604232,0.0,40424.26101074544,141205.29515587245,-85885.88352888904,61934.149598164644,141429.43891064986,0.0,45300.95672553728,92855.94337067138,0.0,47548.51208459269,0.0,0.0,-114774.13581459264,-37396.11439850611,-145455.16315895447,385474.18832557177,0.0,-362719.1549637425,-208124.96971546471,0.0,-147966.61527607706,0.0,-133465.27686902406,0.0,-378933.6130948375,-246881.6830550493,0.0,-165990.7246032335,-86537.10069598744,111621.44379673158,-99119.16209279717,-194615.29868327695,0.0,0.0,-76268.27479366236,22494.30894478753,-244153.00502789763,13951.242378773533,0.0,855590.3955822506,16415.49171596604,781748.3556437728,168621.65264605783,0.0,0.0,0.0,0.0,-118978.0704340679,-108689.64377627958,-184626.79519078878,0.0,0.0,0.0,538209.643897478,667338.2765479259,918960.3280639633,-2180.275400032442,0.0,199169.43901251536,492734.3894316589,361541.81700965454,12673.04493629365,162373.81321355153,0.0,123133.30234732736,598910.8338693283,490984.87055175274,0.0,959795.3503425994,-101593.01194007095,0.0,372443.8892454684,0.0,0.0,0.0,40811.52958325017,63185.252727827676,0.0,0.0,-312914.54525157873,-176752.30762453715,43834.87602733723,-177207.70514432597,0.0,-89237.8942429038,-3023.9751729087716,-18541.961394129514,200579.19352227554,-30675.91182811043,0.0,-135295.4041765626,0.0,-128563.32412127775,0.0,285284.7725969543,-240846.45871382882,0.0,0.0,-221966.90989031043,0.0,-284466.62673090916,-165122.27722206683,0.0,50911.63483589939,-48362.019988780274,-78802.3353355018,-23376.590996240422,1949.1235982675212,21961.81993930003,-86573.31572565001,-63190.44030232529,63190.44029990953,13253.92672493433,-10157.425332330538,-13011.118859755017,-12300.398735969016,285284.77259694715]\n"
          ]
        }
      ]
    }
  ]
}